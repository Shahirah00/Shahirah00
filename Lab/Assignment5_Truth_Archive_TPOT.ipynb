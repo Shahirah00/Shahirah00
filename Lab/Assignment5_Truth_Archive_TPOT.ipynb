{
  "cells": [
    {
      "cell_type": "markdown",
      "metadata": {
        "id": "view-in-github",
        "colab_type": "text"
      },
      "source": [
        "<a href=\"https://colab.research.google.com/github/Shahirah00/Shahirah00/blob/main/Lab/Assignment5_Truth_Archive_TPOT.ipynb\" target=\"_parent\"><img src=\"https://colab.research.google.com/assets/colab-badge.svg\" alt=\"Open In Colab\"/></a>"
      ]
    },
    {
      "cell_type": "markdown",
      "source": [
        "# Assignment 5: Feature Engineering (TPOT) by Truth Archive"
      ],
      "metadata": {
        "id": "QNjdzkyEKcsB"
      },
      "id": "QNjdzkyEKcsB"
    },
    {
      "cell_type": "markdown",
      "source": [
        "## Group members:\n",
        "| No | Name |  MatricNo |\n",
        "| -----: |  ------ | :-----: |\n",
        "|1        |Hazem Fenneer   |MCS231019         |\n",
        "| 2       |Shivanesh       |MCS231014         |\n",
        "|   3     |Nur Shahirah    |MEC233005         |\n",
        "|     4   |Mustafa         |MCS212012         |"
      ],
      "metadata": {
        "id": "n6cBxOtyKfCS"
      },
      "id": "n6cBxOtyKfCS"
    },
    {
      "cell_type": "markdown",
      "source": [
        "##Introduction\n",
        "\n",
        "The project at hand revolves around the task of feature engineering used car prices, employing a dataset named \"used-car-price-predictions.\" The primary objective is to develop a features that can be used to develop a machine learning model. To achieve this, the TPOT library is utilized for comprehensive feature engineering, a critical step in optimizing the dataset for model training."
      ],
      "metadata": {
        "id": "ehG5daGRKlc9"
      },
      "id": "ehG5daGRKlc9"
    },
    {
      "cell_type": "markdown",
      "source": [
        "## About Dataset\n",
        "\n",
        "For the Given Dataset it has one dependent variable and 7 independent variable.\n",
        "\n",
        "**Columns**\n",
        "1. **Price** - Target Variable.\n",
        "2. **Year** - Year of the car purchased.\n",
        "3. **Mileage** - The no.of kms drove by the car.\n",
        "4. **City** - In which city it was sold.\n",
        "5. **State** - In which state it was sold.\n",
        "6. **Vin** - a unique number for a car.\n",
        "7. **Make** - Manufacturer of the car.\n",
        "8. **Model** - The model(name) of the car."
      ],
      "metadata": {
        "id": "LaFPiJQo3F5G"
      },
      "id": "LaFPiJQo3F5G"
    },
    {
      "cell_type": "markdown",
      "source": [
        "##TPOT\n",
        "\n",
        "TPOT, which stands for Tree-based Pipeline Optimization Tool, is an automated machine learning (AutoML) tool designed to streamline the process of selecting and optimizing machine learning pipelines. Developed in Python, TPOT uses genetic programming to explore a wide range of possible combinations of data preprocessing steps and machine learning models, with the goal of identifying the most effective pipeline for a given dataset."
      ],
      "metadata": {
        "id": "m3ojeoxlK3WF"
      },
      "id": "m3ojeoxlK3WF"
    },
    {
      "cell_type": "markdown",
      "source": [
        "**Pros of TPOT:**\n",
        "\n",
        "1. **Automation:** TPOT automates the process of pipeline selection and hyperparameter tuning, saving time and effort compared to manual experimentation.\n",
        "\n",
        "2. **Wide Range of Algorithms:** TPOT searches through a wide range of machine learning algorithms and their hyperparameters, helping to identify the best combination for a given dataset.\n",
        "\n",
        "3. **Customizable:** Users can customize the search space by specifying which algorithms to include or exclude, as well as setting other parameters to control the search.\n",
        "\n",
        "4. **Handles Preprocessing:** TPOT includes preprocessing steps in its optimization, such as feature scaling and imputation, contributing to a comprehensive automated solution.\n",
        "\n",
        "**Cons of TPOT:**\n",
        "\n",
        "1. **Computational Cost:** The automated search process can be computationally expensive and time-consuming, especially when exploring a large search space or dealing with large datasets.\n",
        "\n",
        "2. **Resource Intensive:** TPOT might require substantial computational resources, including memory and processing power, which could be a limitation for users with constrained environments.\n",
        "\n",
        "3. **Lack of Interpretability:** Automated tools like TPOT may result in complex pipelines that are challenging to interpret. Understanding the internal workings of the optimized pipeline may be difficult.\n",
        "\n",
        "4. **Not Always Guaranteed to Find the Best Model:** While TPOT aims to find a good model, it doesn't guarantee the absolute best model. The performance of the optimized pipeline depends on the choices made during the search."
      ],
      "metadata": {
        "id": "bObEhygBLScO"
      },
      "id": "bObEhygBLScO"
    },
    {
      "cell_type": "markdown",
      "source": [
        "### Read data from external file"
      ],
      "metadata": {
        "id": "thwL9ntKLwDV"
      },
      "id": "thwL9ntKLwDV"
    },
    {
      "cell_type": "code",
      "execution_count": null,
      "id": "afb882dc",
      "metadata": {
        "id": "afb882dc"
      },
      "outputs": [],
      "source": [
        "import pandas as pd\n",
        "dfCSV = pd.read_csv(\"/Users/User/Desktop/true_car_listings.csv\")"
      ]
    },
    {
      "cell_type": "markdown",
      "source": [
        "### Data Preparation and Cleaning"
      ],
      "metadata": {
        "id": "Gesv-DmOMFca"
      },
      "id": "Gesv-DmOMFca"
    },
    {
      "cell_type": "markdown",
      "source": [
        "First we import the library we plan to use in this project"
      ],
      "metadata": {
        "id": "gtXQEMHRMP2O"
      },
      "id": "gtXQEMHRMP2O"
    },
    {
      "cell_type": "code",
      "execution_count": null,
      "id": "74ef7dbe",
      "metadata": {
        "id": "74ef7dbe"
      },
      "outputs": [],
      "source": [
        "import numpy as np\n",
        "import seaborn as sns\n",
        "import matplotlib.pyplot as plt\n",
        "%matplotlib inline\n",
        "import matplotlib.mlab as mlab"
      ]
    },
    {
      "cell_type": "markdown",
      "source": [
        "Now, some preperations"
      ],
      "metadata": {
        "id": "YzjruVHKMZgK"
      },
      "id": "YzjruVHKMZgK"
    },
    {
      "cell_type": "markdown",
      "source": [
        "The size of the dataset"
      ],
      "metadata": {
        "id": "gb5LHdZ3Mb_3"
      },
      "id": "gb5LHdZ3Mb_3"
    },
    {
      "cell_type": "code",
      "execution_count": null,
      "id": "6c17af1b",
      "metadata": {
        "id": "6c17af1b",
        "outputId": "e1e3ee5b-c8d9-4e44-9f57-139f0a76e7ed"
      },
      "outputs": [
        {
          "data": {
            "text/plain": [
              "6816976"
            ]
          },
          "execution_count": 40,
          "metadata": {},
          "output_type": "execute_result"
        }
      ],
      "source": [
        "dfCSV.size"
      ]
    },
    {
      "cell_type": "markdown",
      "source": [
        "Now, we have a preview of the head of the dataset"
      ],
      "metadata": {
        "id": "kcmkNRJ7MfWr"
      },
      "id": "kcmkNRJ7MfWr"
    },
    {
      "cell_type": "code",
      "execution_count": null,
      "id": "3c7def5c",
      "metadata": {
        "id": "3c7def5c",
        "outputId": "c57fe5af-d07e-4f94-95ec-ed1e225a838a"
      },
      "outputs": [
        {
          "data": {
            "text/html": [
              "<div>\n",
              "<style scoped>\n",
              "    .dataframe tbody tr th:only-of-type {\n",
              "        vertical-align: middle;\n",
              "    }\n",
              "\n",
              "    .dataframe tbody tr th {\n",
              "        vertical-align: top;\n",
              "    }\n",
              "\n",
              "    .dataframe thead th {\n",
              "        text-align: right;\n",
              "    }\n",
              "</style>\n",
              "<table border=\"1\" class=\"dataframe\">\n",
              "  <thead>\n",
              "    <tr style=\"text-align: right;\">\n",
              "      <th></th>\n",
              "      <th>Price</th>\n",
              "      <th>Year</th>\n",
              "      <th>Mileage</th>\n",
              "      <th>City</th>\n",
              "      <th>State</th>\n",
              "      <th>Vin</th>\n",
              "      <th>Make</th>\n",
              "      <th>Model</th>\n",
              "    </tr>\n",
              "  </thead>\n",
              "  <tbody>\n",
              "    <tr>\n",
              "      <th>0</th>\n",
              "      <td>8995</td>\n",
              "      <td>2014</td>\n",
              "      <td>35725</td>\n",
              "      <td>El Paso</td>\n",
              "      <td>TX</td>\n",
              "      <td>19VDE2E53EE000083</td>\n",
              "      <td>Acura</td>\n",
              "      <td>ILX6-Speed</td>\n",
              "    </tr>\n",
              "    <tr>\n",
              "      <th>1</th>\n",
              "      <td>10888</td>\n",
              "      <td>2013</td>\n",
              "      <td>19606</td>\n",
              "      <td>Long Island City</td>\n",
              "      <td>NY</td>\n",
              "      <td>19VDE1F52DE012636</td>\n",
              "      <td>Acura</td>\n",
              "      <td>ILX5-Speed</td>\n",
              "    </tr>\n",
              "    <tr>\n",
              "      <th>2</th>\n",
              "      <td>8995</td>\n",
              "      <td>2013</td>\n",
              "      <td>48851</td>\n",
              "      <td>El Paso</td>\n",
              "      <td>TX</td>\n",
              "      <td>19VDE2E52DE000025</td>\n",
              "      <td>Acura</td>\n",
              "      <td>ILX6-Speed</td>\n",
              "    </tr>\n",
              "    <tr>\n",
              "      <th>3</th>\n",
              "      <td>10999</td>\n",
              "      <td>2014</td>\n",
              "      <td>39922</td>\n",
              "      <td>Windsor</td>\n",
              "      <td>CO</td>\n",
              "      <td>19VDE1F71EE003817</td>\n",
              "      <td>Acura</td>\n",
              "      <td>ILX5-Speed</td>\n",
              "    </tr>\n",
              "    <tr>\n",
              "      <th>4</th>\n",
              "      <td>14799</td>\n",
              "      <td>2016</td>\n",
              "      <td>22142</td>\n",
              "      <td>Lindon</td>\n",
              "      <td>UT</td>\n",
              "      <td>19UDE2F32GA001284</td>\n",
              "      <td>Acura</td>\n",
              "      <td>ILXAutomatic</td>\n",
              "    </tr>\n",
              "    <tr>\n",
              "      <th>5</th>\n",
              "      <td>7989</td>\n",
              "      <td>2012</td>\n",
              "      <td>105246</td>\n",
              "      <td>Miami</td>\n",
              "      <td>FL</td>\n",
              "      <td>JH4CU2F83CC019895</td>\n",
              "      <td>Acura</td>\n",
              "      <td>TSXAutomatic</td>\n",
              "    </tr>\n",
              "    <tr>\n",
              "      <th>6</th>\n",
              "      <td>14490</td>\n",
              "      <td>2014</td>\n",
              "      <td>34032</td>\n",
              "      <td>Greatneck</td>\n",
              "      <td>NY</td>\n",
              "      <td>JH4CU2F84EC002686</td>\n",
              "      <td>Acura</td>\n",
              "      <td>TSXSpecial</td>\n",
              "    </tr>\n",
              "    <tr>\n",
              "      <th>7</th>\n",
              "      <td>13995</td>\n",
              "      <td>2013</td>\n",
              "      <td>32384</td>\n",
              "      <td>West Jordan</td>\n",
              "      <td>UT</td>\n",
              "      <td>JH4CU2F64DC006203</td>\n",
              "      <td>Acura</td>\n",
              "      <td>TSX5-Speed</td>\n",
              "    </tr>\n",
              "    <tr>\n",
              "      <th>8</th>\n",
              "      <td>10495</td>\n",
              "      <td>2013</td>\n",
              "      <td>57596</td>\n",
              "      <td>Waterbury</td>\n",
              "      <td>CT</td>\n",
              "      <td>19VDE2E50DE000234</td>\n",
              "      <td>Acura</td>\n",
              "      <td>ILX6-Speed</td>\n",
              "    </tr>\n",
              "    <tr>\n",
              "      <th>9</th>\n",
              "      <td>9995</td>\n",
              "      <td>2013</td>\n",
              "      <td>63887</td>\n",
              "      <td>El Paso</td>\n",
              "      <td>TX</td>\n",
              "      <td>19VDE1F50DE010450</td>\n",
              "      <td>Acura</td>\n",
              "      <td>ILX5-Speed</td>\n",
              "    </tr>\n",
              "  </tbody>\n",
              "</table>\n",
              "</div>"
            ],
            "text/plain": [
              "   Price  Year  Mileage              City State                Vin   Make  \\\n",
              "0   8995  2014    35725           El Paso    TX  19VDE2E53EE000083  Acura   \n",
              "1  10888  2013    19606  Long Island City    NY  19VDE1F52DE012636  Acura   \n",
              "2   8995  2013    48851           El Paso    TX  19VDE2E52DE000025  Acura   \n",
              "3  10999  2014    39922           Windsor    CO  19VDE1F71EE003817  Acura   \n",
              "4  14799  2016    22142            Lindon    UT  19UDE2F32GA001284  Acura   \n",
              "5   7989  2012   105246             Miami    FL  JH4CU2F83CC019895  Acura   \n",
              "6  14490  2014    34032         Greatneck    NY  JH4CU2F84EC002686  Acura   \n",
              "7  13995  2013    32384       West Jordan    UT  JH4CU2F64DC006203  Acura   \n",
              "8  10495  2013    57596         Waterbury    CT  19VDE2E50DE000234  Acura   \n",
              "9   9995  2013    63887           El Paso    TX  19VDE1F50DE010450  Acura   \n",
              "\n",
              "          Model  \n",
              "0    ILX6-Speed  \n",
              "1    ILX5-Speed  \n",
              "2    ILX6-Speed  \n",
              "3    ILX5-Speed  \n",
              "4  ILXAutomatic  \n",
              "5  TSXAutomatic  \n",
              "6    TSXSpecial  \n",
              "7    TSX5-Speed  \n",
              "8    ILX6-Speed  \n",
              "9    ILX5-Speed  "
            ]
          },
          "execution_count": 41,
          "metadata": {},
          "output_type": "execute_result"
        }
      ],
      "source": [
        "dfCSV.head(10)"
      ]
    },
    {
      "cell_type": "markdown",
      "source": [
        "Ensure no null values are available"
      ],
      "metadata": {
        "id": "DjuUayDFMi-f"
      },
      "id": "DjuUayDFMi-f"
    },
    {
      "cell_type": "code",
      "execution_count": null,
      "id": "4586cb38",
      "metadata": {
        "id": "4586cb38",
        "outputId": "e6a56e2e-aa56-4680-e8ae-3f9f08787640"
      },
      "outputs": [
        {
          "data": {
            "text/plain": [
              "Price      0\n",
              "Year       0\n",
              "Mileage    0\n",
              "City       0\n",
              "State      0\n",
              "Vin        0\n",
              "Make       0\n",
              "Model      0\n",
              "dtype: int64"
            ]
          },
          "execution_count": 42,
          "metadata": {},
          "output_type": "execute_result"
        }
      ],
      "source": [
        "dfCSV.isna().sum()"
      ]
    },
    {
      "cell_type": "markdown",
      "source": [
        "Data transformation"
      ],
      "metadata": {
        "id": "SbXy_OiuMqYP"
      },
      "id": "SbXy_OiuMqYP"
    },
    {
      "cell_type": "code",
      "execution_count": null,
      "id": "24aa9aeb",
      "metadata": {
        "id": "24aa9aeb"
      },
      "outputs": [],
      "source": [
        "#Data transformation\n",
        "from sklearn.preprocessing import LabelEncoder\n",
        "var_mod = ['City', 'State', 'Vin','Make','Model']\n",
        "le = LabelEncoder()\n",
        "for i in var_mod:\n",
        "    dfCSV[i] = le.fit_transform(dfCSV[i])"
      ]
    },
    {
      "cell_type": "code",
      "execution_count": null,
      "id": "0b84540e",
      "metadata": {
        "id": "0b84540e",
        "outputId": "1ee64748-0989-45c2-b00c-f75b883a1cd9"
      },
      "outputs": [
        {
          "data": {
            "text/html": [
              "<div>\n",
              "<style scoped>\n",
              "    .dataframe tbody tr th:only-of-type {\n",
              "        vertical-align: middle;\n",
              "    }\n",
              "\n",
              "    .dataframe tbody tr th {\n",
              "        vertical-align: top;\n",
              "    }\n",
              "\n",
              "    .dataframe thead th {\n",
              "        text-align: right;\n",
              "    }\n",
              "</style>\n",
              "<table border=\"1\" class=\"dataframe\">\n",
              "  <thead>\n",
              "    <tr style=\"text-align: right;\">\n",
              "      <th></th>\n",
              "      <th>Price</th>\n",
              "      <th>Year</th>\n",
              "      <th>Mileage</th>\n",
              "      <th>City</th>\n",
              "      <th>State</th>\n",
              "      <th>Vin</th>\n",
              "      <th>Make</th>\n",
              "      <th>Model</th>\n",
              "    </tr>\n",
              "  </thead>\n",
              "  <tbody>\n",
              "    <tr>\n",
              "      <th>0</th>\n",
              "      <td>8995</td>\n",
              "      <td>2014</td>\n",
              "      <td>35725</td>\n",
              "      <td>646</td>\n",
              "      <td>49</td>\n",
              "      <td>3972</td>\n",
              "      <td>1</td>\n",
              "      <td>1194</td>\n",
              "    </tr>\n",
              "    <tr>\n",
              "      <th>1</th>\n",
              "      <td>10888</td>\n",
              "      <td>2013</td>\n",
              "      <td>19606</td>\n",
              "      <td>1260</td>\n",
              "      <td>39</td>\n",
              "      <td>3707</td>\n",
              "      <td>1</td>\n",
              "      <td>1193</td>\n",
              "    </tr>\n",
              "    <tr>\n",
              "      <th>2</th>\n",
              "      <td>8995</td>\n",
              "      <td>2013</td>\n",
              "      <td>48851</td>\n",
              "      <td>646</td>\n",
              "      <td>49</td>\n",
              "      <td>3970</td>\n",
              "      <td>1</td>\n",
              "      <td>1194</td>\n",
              "    </tr>\n",
              "    <tr>\n",
              "      <th>3</th>\n",
              "      <td>10999</td>\n",
              "      <td>2014</td>\n",
              "      <td>39922</td>\n",
              "      <td>2490</td>\n",
              "      <td>6</td>\n",
              "      <td>3824</td>\n",
              "      <td>1</td>\n",
              "      <td>1193</td>\n",
              "    </tr>\n",
              "    <tr>\n",
              "      <th>4</th>\n",
              "      <td>14799</td>\n",
              "      <td>2016</td>\n",
              "      <td>22142</td>\n",
              "      <td>1231</td>\n",
              "      <td>50</td>\n",
              "      <td>42</td>\n",
              "      <td>1</td>\n",
              "      <td>1196</td>\n",
              "    </tr>\n",
              "    <tr>\n",
              "      <th>5</th>\n",
              "      <td>7989</td>\n",
              "      <td>2012</td>\n",
              "      <td>105246</td>\n",
              "      <td>1397</td>\n",
              "      <td>11</td>\n",
              "      <td>649119</td>\n",
              "      <td>1</td>\n",
              "      <td>2249</td>\n",
              "    </tr>\n",
              "    <tr>\n",
              "      <th>6</th>\n",
              "      <td>14490</td>\n",
              "      <td>2014</td>\n",
              "      <td>34032</td>\n",
              "      <td>888</td>\n",
              "      <td>39</td>\n",
              "      <td>649126</td>\n",
              "      <td>1</td>\n",
              "      <td>2252</td>\n",
              "    </tr>\n",
              "    <tr>\n",
              "      <th>7</th>\n",
              "      <td>13995</td>\n",
              "      <td>2013</td>\n",
              "      <td>32384</td>\n",
              "      <td>2429</td>\n",
              "      <td>50</td>\n",
              "      <td>648930</td>\n",
              "      <td>1</td>\n",
              "      <td>2248</td>\n",
              "    </tr>\n",
              "    <tr>\n",
              "      <th>8</th>\n",
              "      <td>10495</td>\n",
              "      <td>2013</td>\n",
              "      <td>57596</td>\n",
              "      <td>2389</td>\n",
              "      <td>7</td>\n",
              "      <td>3966</td>\n",
              "      <td>1</td>\n",
              "      <td>1194</td>\n",
              "    </tr>\n",
              "    <tr>\n",
              "      <th>9</th>\n",
              "      <td>9995</td>\n",
              "      <td>2013</td>\n",
              "      <td>63887</td>\n",
              "      <td>646</td>\n",
              "      <td>49</td>\n",
              "      <td>3684</td>\n",
              "      <td>1</td>\n",
              "      <td>1193</td>\n",
              "    </tr>\n",
              "  </tbody>\n",
              "</table>\n",
              "</div>"
            ],
            "text/plain": [
              "   Price  Year  Mileage  City  State     Vin  Make  Model\n",
              "0   8995  2014    35725   646     49    3972     1   1194\n",
              "1  10888  2013    19606  1260     39    3707     1   1193\n",
              "2   8995  2013    48851   646     49    3970     1   1194\n",
              "3  10999  2014    39922  2490      6    3824     1   1193\n",
              "4  14799  2016    22142  1231     50      42     1   1196\n",
              "5   7989  2012   105246  1397     11  649119     1   2249\n",
              "6  14490  2014    34032   888     39  649126     1   2252\n",
              "7  13995  2013    32384  2429     50  648930     1   2248\n",
              "8  10495  2013    57596  2389      7    3966     1   1194\n",
              "9   9995  2013    63887   646     49    3684     1   1193"
            ]
          },
          "execution_count": 44,
          "metadata": {},
          "output_type": "execute_result"
        }
      ],
      "source": [
        "dfCSV.head(10)"
      ]
    },
    {
      "cell_type": "markdown",
      "source": [
        "Ensure that the dublicate values are removed and so are empty rows of data"
      ],
      "metadata": {
        "id": "EWjeRtDCMwNd"
      },
      "id": "EWjeRtDCMwNd"
    },
    {
      "cell_type": "code",
      "execution_count": null,
      "id": "bc619ec2",
      "metadata": {
        "id": "bc619ec2",
        "outputId": "41397b94-86c4-4415-af4e-35a7f074583d"
      },
      "outputs": [
        {
          "data": {
            "text/plain": [
              "Price      852092\n",
              "Year       852092\n",
              "Mileage    852092\n",
              "City       852092\n",
              "State      852092\n",
              "Vin        852092\n",
              "Make       852092\n",
              "Model      852092\n",
              "dtype: int64"
            ]
          },
          "execution_count": 45,
          "metadata": {},
          "output_type": "execute_result"
        }
      ],
      "source": [
        "df = dfCSV.drop_duplicates()\n",
        "df.count()"
      ]
    },
    {
      "cell_type": "markdown",
      "source": [
        "Dsiplay the columns's datatype"
      ],
      "metadata": {
        "id": "Am3G91hEM3Ks"
      },
      "id": "Am3G91hEM3Ks"
    },
    {
      "cell_type": "code",
      "execution_count": null,
      "id": "6a84e10f",
      "metadata": {
        "id": "6a84e10f",
        "outputId": "41ca4e9d-2a21-4698-a80c-3c4ae5bd667b"
      },
      "outputs": [
        {
          "data": {
            "text/plain": [
              "Price      int64\n",
              "Year       int64\n",
              "Mileage    int64\n",
              "City       int32\n",
              "State      int32\n",
              "Vin        int32\n",
              "Make       int32\n",
              "Model      int32\n",
              "dtype: object"
            ]
          },
          "execution_count": 46,
          "metadata": {},
          "output_type": "execute_result"
        }
      ],
      "source": [
        "df.dtypes"
      ]
    },
    {
      "cell_type": "code",
      "execution_count": null,
      "id": "90457e99",
      "metadata": {
        "id": "90457e99",
        "outputId": "164a5c6a-5b48-408c-853b-623e7d06db05"
      },
      "outputs": [
        {
          "data": {
            "text/plain": [
              "(852092, 8)"
            ]
          },
          "execution_count": 47,
          "metadata": {},
          "output_type": "execute_result"
        }
      ],
      "source": [
        "df.shape"
      ]
    },
    {
      "cell_type": "markdown",
      "source": [
        "Dsiplay the columns"
      ],
      "metadata": {
        "id": "eiTBD3X0M2BA"
      },
      "id": "eiTBD3X0M2BA"
    },
    {
      "cell_type": "code",
      "execution_count": null,
      "id": "3ca9bcdb",
      "metadata": {
        "id": "3ca9bcdb",
        "outputId": "a7ab2eb3-24df-47f9-ac1c-4d22daf322bf"
      },
      "outputs": [
        {
          "data": {
            "text/plain": [
              "Index(['Price', 'Year', 'Mileage', 'City', 'State', 'Vin', 'Make', 'Model'], dtype='object')"
            ]
          },
          "execution_count": 48,
          "metadata": {},
          "output_type": "execute_result"
        }
      ],
      "source": [
        "df.columns"
      ]
    },
    {
      "cell_type": "code",
      "execution_count": null,
      "id": "251f6424",
      "metadata": {
        "id": "251f6424",
        "outputId": "cd192f10-eb1f-4b49-8869-832d795c2feb"
      },
      "outputs": [
        {
          "data": {
            "text/html": [
              "<div>\n",
              "<style scoped>\n",
              "    .dataframe tbody tr th:only-of-type {\n",
              "        vertical-align: middle;\n",
              "    }\n",
              "\n",
              "    .dataframe tbody tr th {\n",
              "        vertical-align: top;\n",
              "    }\n",
              "\n",
              "    .dataframe thead th {\n",
              "        text-align: right;\n",
              "    }\n",
              "</style>\n",
              "<table border=\"1\" class=\"dataframe\">\n",
              "  <thead>\n",
              "    <tr style=\"text-align: right;\">\n",
              "      <th></th>\n",
              "      <th>Price</th>\n",
              "      <th>Year</th>\n",
              "      <th>Mileage</th>\n",
              "      <th>City</th>\n",
              "      <th>State</th>\n",
              "      <th>Vin</th>\n",
              "      <th>Make</th>\n",
              "      <th>Model</th>\n",
              "    </tr>\n",
              "  </thead>\n",
              "  <tbody>\n",
              "    <tr>\n",
              "      <th>count</th>\n",
              "      <td>852092.000000</td>\n",
              "      <td>852092.000000</td>\n",
              "      <td>8.520920e+05</td>\n",
              "      <td>852092.000000</td>\n",
              "      <td>852092.000000</td>\n",
              "      <td>852092.000000</td>\n",
              "      <td>852092.000000</td>\n",
              "      <td>852092.000000</td>\n",
              "    </tr>\n",
              "    <tr>\n",
              "      <th>mean</th>\n",
              "      <td>21464.323952</td>\n",
              "      <td>2013.289097</td>\n",
              "      <td>5.250825e+04</td>\n",
              "      <td>1236.200826</td>\n",
              "      <td>27.790433</td>\n",
              "      <td>426034.340839</td>\n",
              "      <td>25.486395</td>\n",
              "      <td>1275.130313</td>\n",
              "    </tr>\n",
              "    <tr>\n",
              "      <th>std</th>\n",
              "      <td>13596.350808</td>\n",
              "      <td>3.415016</td>\n",
              "      <td>4.198932e+04</td>\n",
              "      <td>719.801820</td>\n",
              "      <td>17.240253</td>\n",
              "      <td>245972.054833</td>\n",
              "      <td>16.326310</td>\n",
              "      <td>766.356677</td>\n",
              "    </tr>\n",
              "    <tr>\n",
              "      <th>min</th>\n",
              "      <td>1500.000000</td>\n",
              "      <td>1997.000000</td>\n",
              "      <td>5.000000e+00</td>\n",
              "      <td>0.000000</td>\n",
              "      <td>0.000000</td>\n",
              "      <td>0.000000</td>\n",
              "      <td>0.000000</td>\n",
              "      <td>0.000000</td>\n",
              "    </tr>\n",
              "    <tr>\n",
              "      <th>25%</th>\n",
              "      <td>13000.000000</td>\n",
              "      <td>2012.000000</td>\n",
              "      <td>2.383600e+04</td>\n",
              "      <td>595.000000</td>\n",
              "      <td>11.000000</td>\n",
              "      <td>213015.750000</td>\n",
              "      <td>11.000000</td>\n",
              "      <td>651.000000</td>\n",
              "    </tr>\n",
              "    <tr>\n",
              "      <th>50%</th>\n",
              "      <td>18500.000000</td>\n",
              "      <td>2014.000000</td>\n",
              "      <td>4.025600e+04</td>\n",
              "      <td>1220.000000</td>\n",
              "      <td>27.000000</td>\n",
              "      <td>426029.500000</td>\n",
              "      <td>21.000000</td>\n",
              "      <td>1158.000000</td>\n",
              "    </tr>\n",
              "    <tr>\n",
              "      <th>75%</th>\n",
              "      <td>26995.000000</td>\n",
              "      <td>2016.000000</td>\n",
              "      <td>7.218700e+04</td>\n",
              "      <td>1852.000000</td>\n",
              "      <td>44.000000</td>\n",
              "      <td>639052.250000</td>\n",
              "      <td>41.000000</td>\n",
              "      <td>2074.000000</td>\n",
              "    </tr>\n",
              "    <tr>\n",
              "      <th>max</th>\n",
              "      <td>499500.000000</td>\n",
              "      <td>2018.000000</td>\n",
              "      <td>2.856196e+06</td>\n",
              "      <td>2552.000000</td>\n",
              "      <td>58.000000</td>\n",
              "      <td>852074.000000</td>\n",
              "      <td>57.000000</td>\n",
              "      <td>2735.000000</td>\n",
              "    </tr>\n",
              "  </tbody>\n",
              "</table>\n",
              "</div>"
            ],
            "text/plain": [
              "               Price           Year       Mileage           City  \\\n",
              "count  852092.000000  852092.000000  8.520920e+05  852092.000000   \n",
              "mean    21464.323952    2013.289097  5.250825e+04    1236.200826   \n",
              "std     13596.350808       3.415016  4.198932e+04     719.801820   \n",
              "min      1500.000000    1997.000000  5.000000e+00       0.000000   \n",
              "25%     13000.000000    2012.000000  2.383600e+04     595.000000   \n",
              "50%     18500.000000    2014.000000  4.025600e+04    1220.000000   \n",
              "75%     26995.000000    2016.000000  7.218700e+04    1852.000000   \n",
              "max    499500.000000    2018.000000  2.856196e+06    2552.000000   \n",
              "\n",
              "               State            Vin           Make          Model  \n",
              "count  852092.000000  852092.000000  852092.000000  852092.000000  \n",
              "mean       27.790433  426034.340839      25.486395    1275.130313  \n",
              "std        17.240253  245972.054833      16.326310     766.356677  \n",
              "min         0.000000       0.000000       0.000000       0.000000  \n",
              "25%        11.000000  213015.750000      11.000000     651.000000  \n",
              "50%        27.000000  426029.500000      21.000000    1158.000000  \n",
              "75%        44.000000  639052.250000      41.000000    2074.000000  \n",
              "max        58.000000  852074.000000      57.000000    2735.000000  "
            ]
          },
          "execution_count": 49,
          "metadata": {},
          "output_type": "execute_result"
        }
      ],
      "source": [
        "df.describe()"
      ]
    },
    {
      "cell_type": "markdown",
      "source": [
        "###EDA\n",
        "Visualize the year of the car purchased"
      ],
      "metadata": {
        "id": "Adc6--mANEcM"
      },
      "id": "Adc6--mANEcM"
    },
    {
      "cell_type": "code",
      "execution_count": null,
      "id": "5b9f78c8",
      "metadata": {
        "id": "5b9f78c8",
        "outputId": "020a02d1-cd23-456b-f7b6-0aa4bd561c97"
      },
      "outputs": [
        {
          "data": {
            "image/png": "[encoded data removed]",
            "text/plain": [
              "<Figure size 360x360 with 1 Axes>"
            ]
          },
          "metadata": {
            "needs_background": "light"
          },
          "output_type": "display_data"
        }
      ],
      "source": [
        "data = df['Year']\n",
        "\n",
        "fig, ax = plt.subplots(figsize=(5, 5))\n",
        "ax.hist(data,bins=20)\n",
        "ax.set_title(\"Year of the car purchased\")\n",
        "ax.set_xlabel('Year')\n",
        "ax.set_ylabel('Number of car purchased')\n",
        "ax.grid(False)\n",
        "plt.tight_layout()\n",
        "plt.show()"
      ]
    },
    {
      "cell_type": "markdown",
      "source": [
        "Visualize the distribution of the target variable (Price)"
      ],
      "metadata": {
        "id": "jOFsK8N1M_8p"
      },
      "id": "jOFsK8N1M_8p"
    },
    {
      "cell_type": "code",
      "execution_count": null,
      "id": "7140870c",
      "metadata": {
        "id": "7140870c",
        "outputId": "c86d9992-8508-4692-c246-3e12f8fac1a1"
      },
      "outputs": [
        {
          "data": {
            "image/png": "[encoded data removed]",
            "text/plain": [
              "<Figure size 360x360 with 1 Axes>"
            ]
          },
          "metadata": {
            "needs_background": "light"
          },
          "output_type": "display_data"
        }
      ],
      "source": [
        "data = dfCSV['Price']\n",
        "\n",
        "import matplotlib.pyplot as plt\n",
        "fig, ax = plt.subplots(figsize=(5, 5))\n",
        "ax.hist(data, bins = 100)\n",
        "ax.set_title(\"Distribution of Used Car Prices\")\n",
        "ax.set_xlabel('Price')\n",
        "ax.set_ylabel('Frequency')\n",
        "ax.grid(False)\n",
        "plt.tight_layout()\n",
        "plt.show()"
      ]
    },
    {
      "cell_type": "markdown",
      "source": [
        "### TPOT\n",
        "\n",
        "First we installed TPOT"
      ],
      "metadata": {
        "id": "wy3OFGdINNh-"
      },
      "id": "wy3OFGdINNh-"
    },
    {
      "cell_type": "code",
      "execution_count": null,
      "id": "d131c347",
      "metadata": {
        "id": "d131c347",
        "outputId": "8ffbbcff-61cd-4ec6-cece-08788b4625ac"
      },
      "outputs": [
        {
          "name": "stdout",
          "output_type": "stream",
          "text": [
            "Requirement already satisfied: tpot in c:\\users\\user\\anaconda3\\lib\\site-packages (0.12.1)\n",
            "Requirement already satisfied: scikit-learn>=0.22.0 in c:\\users\\user\\anaconda3\\lib\\site-packages (from tpot) (1.3.2)\n",
            "Requirement already satisfied: joblib>=0.13.2 in c:\\users\\user\\anaconda3\\lib\\site-packages (from tpot) (1.3.2)\n",
            "Requirement already satisfied: tqdm>=4.36.1 in c:\\users\\user\\anaconda3\\lib\\site-packages (from tpot) (4.62.3)\n",
            "Requirement already satisfied: xgboost>=1.1.0 in c:\\users\\user\\anaconda3\\lib\\site-packages (from tpot) (2.0.2)\n",
            "Requirement already satisfied: deap>=1.2 in c:\\users\\user\\anaconda3\\lib\\site-packages (from tpot) (1.4.1)\n",
            "Requirement already satisfied: update-checker>=0.16 in c:\\users\\user\\anaconda3\\lib\\site-packages (from tpot) (0.18.0)\n",
            "Requirement already satisfied: scipy>=1.3.1 in c:\\users\\user\\anaconda3\\lib\\site-packages (from tpot) (1.10.1)\n",
            "Requirement already satisfied: pandas>=0.24.2 in c:\\users\\user\\anaconda3\\lib\\site-packages (from tpot) (2.0.3)\n",
            "Requirement already satisfied: stopit>=1.1.1 in c:\\users\\user\\anaconda3\\lib\\site-packages (from tpot) (1.1.2)\n",
            "Requirement already satisfied: numpy>=1.16.3 in c:\\users\\user\\anaconda3\\lib\\site-packages (from tpot) (1.24.4)\n",
            "Requirement already satisfied: pytz>=2020.1 in c:\\users\\user\\anaconda3\\lib\\site-packages (from pandas>=0.24.2->tpot) (2021.3)\n",
            "Requirement already satisfied: tzdata>=2022.1 in c:\\users\\user\\anaconda3\\lib\\site-packages (from pandas>=0.24.2->tpot) (2022.7)\n",
            "Requirement already satisfied: python-dateutil>=2.8.2 in c:\\users\\user\\anaconda3\\lib\\site-packages (from pandas>=0.24.2->tpot) (2.8.2)\n",
            "Requirement already satisfied: six>=1.5 in c:\\users\\user\\anaconda3\\lib\\site-packages (from python-dateutil>=2.8.2->pandas>=0.24.2->tpot) (1.16.0)\n",
            "Requirement already satisfied: threadpoolctl>=2.0.0 in c:\\users\\user\\anaconda3\\lib\\site-packages (from scikit-learn>=0.22.0->tpot) (2.2.0)\n",
            "Requirement already satisfied: colorama in c:\\users\\user\\anaconda3\\lib\\site-packages (from tqdm>=4.36.1->tpot) (0.4.4)\n",
            "Requirement already satisfied: requests>=2.3.0 in c:\\users\\user\\anaconda3\\lib\\site-packages (from update-checker>=0.16->tpot) (2.26.0)\n",
            "Requirement already satisfied: urllib3<1.27,>=1.21.1 in c:\\users\\user\\anaconda3\\lib\\site-packages (from requests>=2.3.0->update-checker>=0.16->tpot) (1.26.7)\n",
            "Requirement already satisfied: idna<4,>=2.5 in c:\\users\\user\\anaconda3\\lib\\site-packages (from requests>=2.3.0->update-checker>=0.16->tpot) (3.2)\n",
            "Requirement already satisfied: charset-normalizer~=2.0.0 in c:\\users\\user\\anaconda3\\lib\\site-packages (from requests>=2.3.0->update-checker>=0.16->tpot) (2.0.4)\n",
            "Requirement already satisfied: certifi>=2017.4.17 in c:\\users\\user\\anaconda3\\lib\\site-packages (from requests>=2.3.0->update-checker>=0.16->tpot) (2021.10.8)\n"
          ]
        }
      ],
      "source": [
        "!pip install tpot"
      ]
    },
    {
      "cell_type": "markdown",
      "source": [
        "Then we import the library needed for feature engineer"
      ],
      "metadata": {
        "id": "dFhfQfb4NWEz"
      },
      "id": "dFhfQfb4NWEz"
    },
    {
      "cell_type": "code",
      "execution_count": null,
      "id": "a0312352",
      "metadata": {
        "id": "a0312352"
      },
      "outputs": [],
      "source": [
        "from tpot import TPOTRegressor\n",
        "from sklearn.model_selection import train_test_split\n",
        "from sklearn.ensemble import RandomForestRegressor\n",
        "from sklearn.neighbors import KNeighborsRegressor\n",
        "from sklearn.ensemble import GradientBoostingRegressor\n",
        "from sklearn.feature_selection import SelectFromModel"
      ]
    },
    {
      "cell_type": "markdown",
      "source": [
        "First we will need to set up data for machine learning by defining a target variable ('Price') and splitting the dataset into features (X) and the target variable (y)."
      ],
      "metadata": {
        "id": "iNavCxDmNohY"
      },
      "id": "iNavCxDmNohY"
    },
    {
      "cell_type": "code",
      "execution_count": null,
      "id": "e8023201",
      "metadata": {
        "id": "e8023201"
      },
      "outputs": [],
      "source": [
        "X = df.drop(['Price'], axis=1)\n",
        "y = df['Price']\n",
        "\n",
        "# We want to predict the target variable, which is price in this case.\n",
        "# The features (X) are used to train the model, and\n",
        "# the target variable (y) is what the model tries to predict.\n"
      ]
    },
    {
      "cell_type": "markdown",
      "source": [
        "in this code we will utilize the train_test_split function to divide the dataset into training and testing sets."
      ],
      "metadata": {
        "id": "A3hTF5E2NkzP"
      },
      "id": "A3hTF5E2NkzP"
    },
    {
      "cell_type": "code",
      "execution_count": null,
      "id": "2cc242a0",
      "metadata": {
        "id": "2cc242a0"
      },
      "outputs": [],
      "source": [
        "# Split the dataset into training and testing sets\n",
        "X_train, X_test, y_train, y_test = train_test_split(X, y, test_size=0.2, random_state=42)"
      ]
    },
    {
      "cell_type": "markdown",
      "source": [
        "Use TPOT to perform automated feature engineering"
      ],
      "metadata": {
        "id": "Ufj7CxjvNuFN"
      },
      "id": "Ufj7CxjvNuFN"
    },
    {
      "cell_type": "code",
      "execution_count": null,
      "id": "17f2389f",
      "metadata": {
        "colab": {
          "referenced_widgets": [
            ""
          ]
        },
        "id": "17f2389f",
        "outputId": "8cb4045b-8413-4852-89af-9b96323df10d"
      },
      "outputs": [
        {
          "data": {
            "application/vnd.jupyter.widget-view+json": {
              "model_id": "",
              "version_major": 2,
              "version_minor": 0
            },
            "text/plain": [
              "Optimization Progress:   0%|          | 0/120 [00:00<?, ?pipeline/s]"
            ]
          },
          "metadata": {},
          "output_type": "display_data"
        },
        {
          "name": "stdout",
          "output_type": "stream",
          "text": [
            "\n",
            "Generation 1 - Current best internal CV score: -30105428.96093303\n",
            "\n",
            "Generation 2 - Current best internal CV score: -28593750.53435128\n",
            "\n",
            "Generation 3 - Current best internal CV score: -27870217.474173665\n",
            "\n",
            "Generation 4 - Current best internal CV score: -23930083.306155566\n",
            "\n",
            "Generation 5 - Current best internal CV score: -23472214.141454138\n",
            "\n",
            "Best pipeline: XGBRegressor(MaxAbsScaler(input_matrix), learning_rate=0.5, max_depth=7, min_child_weight=14, n_estimators=100, n_jobs=1, objective=reg:squarederror, subsample=0.55, verbosity=0)\n"
          ]
        },
        {
          "data": {
            "text/html": [
              "<style>#sk-container-id-1 {color: black;}#sk-container-id-1 pre{padding: 0;}#sk-container-id-1 div.sk-toggleable {background-color: white;}#sk-container-id-1 label.sk-toggleable__label {cursor: pointer;display: block;width: 100%;margin-bottom: 0;padding: 0.3em;box-sizing: border-box;text-align: center;}#sk-container-id-1 label.sk-toggleable__label-arrow:before {content: \"▸\";float: left;margin-right: 0.25em;color: #696969;}#sk-container-id-1 label.sk-toggleable__label-arrow:hover:before {color: black;}#sk-container-id-1 div.sk-estimator:hover label.sk-toggleable__label-arrow:before {color: black;}#sk-container-id-1 div.sk-toggleable__content {max-height: 0;max-width: 0;overflow: hidden;text-align: left;background-color: #f0f8ff;}#sk-container-id-1 div.sk-toggleable__content pre {margin: 0.2em;color: black;border-radius: 0.25em;background-color: #f0f8ff;}#sk-container-id-1 input.sk-toggleable__control:checked~div.sk-toggleable__content {max-height: 200px;max-width: 100%;overflow: auto;}#sk-container-id-1 input.sk-toggleable__control:checked~label.sk-toggleable__label-arrow:before {content: \"▾\";}#sk-container-id-1 div.sk-estimator input.sk-toggleable__control:checked~label.sk-toggleable__label {background-color: #d4ebff;}#sk-container-id-1 div.sk-label input.sk-toggleable__control:checked~label.sk-toggleable__label {background-color: #d4ebff;}#sk-container-id-1 input.sk-hidden--visually {border: 0;clip: rect(1px 1px 1px 1px);clip: rect(1px, 1px, 1px, 1px);height: 1px;margin: -1px;overflow: hidden;padding: 0;position: absolute;width: 1px;}#sk-container-id-1 div.sk-estimator {font-family: monospace;background-color: #f0f8ff;border: 1px dotted black;border-radius: 0.25em;box-sizing: border-box;margin-bottom: 0.5em;}#sk-container-id-1 div.sk-estimator:hover {background-color: #d4ebff;}#sk-container-id-1 div.sk-parallel-item::after {content: \"\";width: 100%;border-bottom: 1px solid gray;flex-grow: 1;}#sk-container-id-1 div.sk-label:hover label.sk-toggleable__label {background-color: #d4ebff;}#sk-container-id-1 div.sk-serial::before {content: \"\";position: absolute;border-left: 1px solid gray;box-sizing: border-box;top: 0;bottom: 0;left: 50%;z-index: 0;}#sk-container-id-1 div.sk-serial {display: flex;flex-direction: column;align-items: center;background-color: white;padding-right: 0.2em;padding-left: 0.2em;position: relative;}#sk-container-id-1 div.sk-item {position: relative;z-index: 1;}#sk-container-id-1 div.sk-parallel {display: flex;align-items: stretch;justify-content: center;background-color: white;position: relative;}#sk-container-id-1 div.sk-item::before, #sk-container-id-1 div.sk-parallel-item::before {content: \"\";position: absolute;border-left: 1px solid gray;box-sizing: border-box;top: 0;bottom: 0;left: 50%;z-index: -1;}#sk-container-id-1 div.sk-parallel-item {display: flex;flex-direction: column;z-index: 1;position: relative;background-color: white;}#sk-container-id-1 div.sk-parallel-item:first-child::after {align-self: flex-end;width: 50%;}#sk-container-id-1 div.sk-parallel-item:last-child::after {align-self: flex-start;width: 50%;}#sk-container-id-1 div.sk-parallel-item:only-child::after {width: 0;}#sk-container-id-1 div.sk-dashed-wrapped {border: 1px dashed gray;margin: 0 0.4em 0.5em 0.4em;box-sizing: border-box;padding-bottom: 0.4em;background-color: white;}#sk-container-id-1 div.sk-label label {font-family: monospace;font-weight: bold;display: inline-block;line-height: 1.2em;}#sk-container-id-1 div.sk-label-container {text-align: center;}#sk-container-id-1 div.sk-container {/* jupyter's `normalize.less` sets `[hidden] { display: none; }` but bootstrap.min.css set `[hidden] { display: none !important; }` so we also need the `!important` here to be able to override the default hidden behavior on the sphinx rendered scikit-learn.org. See: https://github.com/scikit-learn/scikit-learn/issues/21755 */display: inline-block !important;position: relative;}#sk-container-id-1 div.sk-text-repr-fallback {display: none;}</style><div id=\"sk-container-id-1\" class=\"sk-top-container\"><div class=\"sk-text-repr-fallback\"><pre>TPOTRegressor(generations=5, n_jobs=-1, population_size=20, random_state=42,\n",
              "              verbosity=2)</pre><b>In a Jupyter environment, please rerun this cell to show the HTML representation or trust the notebook. <br />On GitHub, the HTML representation is unable to render, please try loading this page with nbviewer.org.</b></div><div class=\"sk-container\" hidden><div class=\"sk-item\"><div class=\"sk-estimator sk-toggleable\"><input class=\"sk-toggleable__control sk-hidden--visually\" id=\"sk-estimator-id-1\" type=\"checkbox\" checked><label for=\"sk-estimator-id-1\" class=\"sk-toggleable__label sk-toggleable__label-arrow\">TPOTRegressor</label><div class=\"sk-toggleable__content\"><pre>TPOTRegressor(generations=5, n_jobs=-1, population_size=20, random_state=42,\n",
              "              verbosity=2)</pre></div></div></div></div></div>"
            ],
            "text/plain": [
              "TPOTRegressor(generations=5, n_jobs=-1, population_size=20, random_state=42,\n",
              "              verbosity=2)"
            ]
          },
          "execution_count": 17,
          "metadata": {},
          "output_type": "execute_result"
        }
      ],
      "source": [
        "tpot = TPOTRegressor(generations=5, population_size=20, random_state=42, verbosity=2, n_jobs=-1)\n",
        "tpot.fit(X_train, y_train)"
      ]
    },
    {
      "cell_type": "markdown",
      "source": [
        "Evaluate the best pipeline on the test set"
      ],
      "metadata": {
        "id": "ggxZAGkXN0Ws"
      },
      "id": "ggxZAGkXN0Ws"
    },
    {
      "cell_type": "code",
      "execution_count": null,
      "id": "8c89a51d",
      "metadata": {
        "id": "8c89a51d",
        "outputId": "340b09b3-bc62-4a1a-e5c9-12304ff3b588"
      },
      "outputs": [
        {
          "data": {
            "text/plain": [
              "-20508627.063706055"
            ]
          },
          "execution_count": 18,
          "metadata": {},
          "output_type": "execute_result"
        }
      ],
      "source": [
        "tpot.score(X_test, y_test)"
      ]
    },
    {
      "cell_type": "markdown",
      "source": [
        "Get the feature importances from the best pipeline"
      ],
      "metadata": {
        "id": "8FIMEGIRN3q1"
      },
      "id": "8FIMEGIRN3q1"
    },
    {
      "cell_type": "code",
      "execution_count": null,
      "id": "2f28b01e",
      "metadata": {
        "id": "2f28b01e"
      },
      "outputs": [],
      "source": [
        "best_pipeline = tpot.fitted_pipeline_\n",
        "feature_importances = best_pipeline.steps[-1][1].feature_importances_"
      ]
    },
    {
      "cell_type": "markdown",
      "source": [
        "Select the most important features using a threshold"
      ],
      "metadata": {
        "id": "fKsLPZZ8N5vq"
      },
      "id": "fKsLPZZ8N5vq"
    },
    {
      "cell_type": "code",
      "execution_count": null,
      "id": "7718264c",
      "metadata": {
        "id": "7718264c",
        "outputId": "918abce9-252e-4ff1-e7bf-06ccaa7610b4"
      },
      "outputs": [
        {
          "data": {
            "text/html": [
              "<style>#sk-container-id-2 {color: black;}#sk-container-id-2 pre{padding: 0;}#sk-container-id-2 div.sk-toggleable {background-color: white;}#sk-container-id-2 label.sk-toggleable__label {cursor: pointer;display: block;width: 100%;margin-bottom: 0;padding: 0.3em;box-sizing: border-box;text-align: center;}#sk-container-id-2 label.sk-toggleable__label-arrow:before {content: \"▸\";float: left;margin-right: 0.25em;color: #696969;}#sk-container-id-2 label.sk-toggleable__label-arrow:hover:before {color: black;}#sk-container-id-2 div.sk-estimator:hover label.sk-toggleable__label-arrow:before {color: black;}#sk-container-id-2 div.sk-toggleable__content {max-height: 0;max-width: 0;overflow: hidden;text-align: left;background-color: #f0f8ff;}#sk-container-id-2 div.sk-toggleable__content pre {margin: 0.2em;color: black;border-radius: 0.25em;background-color: #f0f8ff;}#sk-container-id-2 input.sk-toggleable__control:checked~div.sk-toggleable__content {max-height: 200px;max-width: 100%;overflow: auto;}#sk-container-id-2 input.sk-toggleable__control:checked~label.sk-toggleable__label-arrow:before {content: \"▾\";}#sk-container-id-2 div.sk-estimator input.sk-toggleable__control:checked~label.sk-toggleable__label {background-color: #d4ebff;}#sk-container-id-2 div.sk-label input.sk-toggleable__control:checked~label.sk-toggleable__label {background-color: #d4ebff;}#sk-container-id-2 input.sk-hidden--visually {border: 0;clip: rect(1px 1px 1px 1px);clip: rect(1px, 1px, 1px, 1px);height: 1px;margin: -1px;overflow: hidden;padding: 0;position: absolute;width: 1px;}#sk-container-id-2 div.sk-estimator {font-family: monospace;background-color: #f0f8ff;border: 1px dotted black;border-radius: 0.25em;box-sizing: border-box;margin-bottom: 0.5em;}#sk-container-id-2 div.sk-estimator:hover {background-color: #d4ebff;}#sk-container-id-2 div.sk-parallel-item::after {content: \"\";width: 100%;border-bottom: 1px solid gray;flex-grow: 1;}#sk-container-id-2 div.sk-label:hover label.sk-toggleable__label {background-color: #d4ebff;}#sk-container-id-2 div.sk-serial::before {content: \"\";position: absolute;border-left: 1px solid gray;box-sizing: border-box;top: 0;bottom: 0;left: 50%;z-index: 0;}#sk-container-id-2 div.sk-serial {display: flex;flex-direction: column;align-items: center;background-color: white;padding-right: 0.2em;padding-left: 0.2em;position: relative;}#sk-container-id-2 div.sk-item {position: relative;z-index: 1;}#sk-container-id-2 div.sk-parallel {display: flex;align-items: stretch;justify-content: center;background-color: white;position: relative;}#sk-container-id-2 div.sk-item::before, #sk-container-id-2 div.sk-parallel-item::before {content: \"\";position: absolute;border-left: 1px solid gray;box-sizing: border-box;top: 0;bottom: 0;left: 50%;z-index: -1;}#sk-container-id-2 div.sk-parallel-item {display: flex;flex-direction: column;z-index: 1;position: relative;background-color: white;}#sk-container-id-2 div.sk-parallel-item:first-child::after {align-self: flex-end;width: 50%;}#sk-container-id-2 div.sk-parallel-item:last-child::after {align-self: flex-start;width: 50%;}#sk-container-id-2 div.sk-parallel-item:only-child::after {width: 0;}#sk-container-id-2 div.sk-dashed-wrapped {border: 1px dashed gray;margin: 0 0.4em 0.5em 0.4em;box-sizing: border-box;padding-bottom: 0.4em;background-color: white;}#sk-container-id-2 div.sk-label label {font-family: monospace;font-weight: bold;display: inline-block;line-height: 1.2em;}#sk-container-id-2 div.sk-label-container {text-align: center;}#sk-container-id-2 div.sk-container {/* jupyter's `normalize.less` sets `[hidden] { display: none; }` but bootstrap.min.css set `[hidden] { display: none !important; }` so we also need the `!important` here to be able to override the default hidden behavior on the sphinx rendered scikit-learn.org. See: https://github.com/scikit-learn/scikit-learn/issues/21755 */display: inline-block !important;position: relative;}#sk-container-id-2 div.sk-text-repr-fallback {display: none;}</style><div id=\"sk-container-id-2\" class=\"sk-top-container\"><div class=\"sk-text-repr-fallback\"><pre>SelectFromModel(estimator=GradientBoostingRegressor(), threshold=&#x27;median&#x27;)</pre><b>In a Jupyter environment, please rerun this cell to show the HTML representation or trust the notebook. <br />On GitHub, the HTML representation is unable to render, please try loading this page with nbviewer.org.</b></div><div class=\"sk-container\" hidden><div class=\"sk-item sk-dashed-wrapped\"><div class=\"sk-label-container\"><div class=\"sk-label sk-toggleable\"><input class=\"sk-toggleable__control sk-hidden--visually\" id=\"sk-estimator-id-2\" type=\"checkbox\" ><label for=\"sk-estimator-id-2\" class=\"sk-toggleable__label sk-toggleable__label-arrow\">SelectFromModel</label><div class=\"sk-toggleable__content\"><pre>SelectFromModel(estimator=GradientBoostingRegressor(), threshold=&#x27;median&#x27;)</pre></div></div></div><div class=\"sk-parallel\"><div class=\"sk-parallel-item\"><div class=\"sk-item\"><div class=\"sk-label-container\"><div class=\"sk-label sk-toggleable\"><input class=\"sk-toggleable__control sk-hidden--visually\" id=\"sk-estimator-id-3\" type=\"checkbox\" ><label for=\"sk-estimator-id-3\" class=\"sk-toggleable__label sk-toggleable__label-arrow\">estimator: GradientBoostingRegressor</label><div class=\"sk-toggleable__content\"><pre>GradientBoostingRegressor()</pre></div></div></div><div class=\"sk-serial\"><div class=\"sk-item\"><div class=\"sk-estimator sk-toggleable\"><input class=\"sk-toggleable__control sk-hidden--visually\" id=\"sk-estimator-id-4\" type=\"checkbox\" ><label for=\"sk-estimator-id-4\" class=\"sk-toggleable__label sk-toggleable__label-arrow\">GradientBoostingRegressor</label><div class=\"sk-toggleable__content\"><pre>GradientBoostingRegressor()</pre></div></div></div></div></div></div></div></div></div></div>"
            ],
            "text/plain": [
              "SelectFromModel(estimator=GradientBoostingRegressor(), threshold='median')"
            ]
          },
          "execution_count": 21,
          "metadata": {},
          "output_type": "execute_result"
        }
      ],
      "source": [
        "sfm = SelectFromModel(GradientBoostingRegressor(), threshold='median')\n",
        "sfm.fit(X, y)"
      ]
    },
    {
      "cell_type": "markdown",
      "source": [
        "Transform the dataset to keep only the selected features"
      ],
      "metadata": {
        "id": "qqqIlnL2N9ep"
      },
      "id": "qqqIlnL2N9ep"
    },
    {
      "cell_type": "code",
      "execution_count": null,
      "id": "a1ed536a",
      "metadata": {
        "id": "a1ed536a"
      },
      "outputs": [],
      "source": [
        "X_selected = sfm.transform(X)"
      ]
    },
    {
      "cell_type": "code",
      "execution_count": null,
      "id": "33260f23",
      "metadata": {
        "id": "33260f23",
        "outputId": "eecd425c-de9c-40ed-e208-5634fc772b83"
      },
      "outputs": [
        {
          "data": {
            "text/plain": [
              "array([[  2014,  35725,   3972,   1194],\n",
              "       [  2013,  19606,   3707,   1193],\n",
              "       [  2013,  48851,   3970,   1194],\n",
              "       ...,\n",
              "       [  2016,  28941, 847134,   2564],\n",
              "       [  2017,   3005, 846932,   2404],\n",
              "       [  2017,   2502, 847203,   2571]], dtype=int64)"
            ]
          },
          "execution_count": 23,
          "metadata": {},
          "output_type": "execute_result"
        }
      ],
      "source": [
        "X_selected"
      ]
    },
    {
      "cell_type": "markdown",
      "source": [
        "### Visualization"
      ],
      "metadata": {
        "id": "S5gF1B8EOE2P"
      },
      "id": "S5gF1B8EOE2P"
    },
    {
      "cell_type": "code",
      "execution_count": null,
      "id": "7188669e",
      "metadata": {
        "id": "7188669e",
        "outputId": "32ce6a24-4768-45bd-9e6a-8bdb352f191c"
      },
      "outputs": [
        {
          "data": {
            "image/png": "[encoded data removed]",
            "text/plain": [
              "<Figure size 864x432 with 1 Axes>"
            ]
          },
          "metadata": {
            "needs_background": "light"
          },
          "output_type": "display_data"
        }
      ],
      "source": [
        "import numpy as np\n",
        "import seaborn as sns\n",
        "import matplotlib.pyplot as plt\n",
        "\n",
        "# Visualize the feature importances\n",
        "# Check lengths before sorting\n",
        "if len(feature_importances) != len(X.columns):\n",
        "    raise ValueError(\"Length mismatch between feature_importances and X.columns\")\n",
        "\n",
        "# Sort feature importances in descending order\n",
        "sorted_indices = np.argsort(feature_importances)[::-1]\n",
        "sorted_feature_importances = feature_importances[sorted_indices]\n",
        "sorted_feature_names = X.columns[sorted_indices]\n",
        "\n",
        "# Select the top 5 features\n",
        "top_n = 5\n",
        "top_feature_importances = sorted_feature_importances[:top_n]\n",
        "top_feature_names = sorted_feature_names[:top_n]\n",
        "\n",
        "# Visualize the top 10 feature importances\n",
        "plt.figure(figsize=(12, 6))\n",
        "sns.barplot(x=top_feature_importances, y=top_feature_names)\n",
        "plt.title('Top 5 Feature Importances')\n",
        "plt.xlabel('Importance')\n",
        "plt.ylabel('Feature')\n",
        "plt.show()"
      ]
    },
    {
      "cell_type": "code",
      "execution_count": null,
      "id": "5b2e1717",
      "metadata": {
        "id": "5b2e1717",
        "outputId": "407cf1da-6bba-43eb-e117-003d155a7f98"
      },
      "outputs": [
        {
          "name": "stdout",
          "output_type": "stream",
          "text": [
            "Length of feature_importances: 7\n",
            "Number of columns in X: 7\n"
          ]
        }
      ],
      "source": [
        "print(\"Length of feature_importances:\", len(feature_importances))\n",
        "print(\"Number of columns in X:\", len(X.columns))"
      ]
    },
    {
      "cell_type": "markdown",
      "source": [
        "Conclusion"
      ],
      "metadata": {
        "id": "_SHKfyLROLwC"
      },
      "id": "_SHKfyLROLwC"
    },
    {
      "cell_type": "code",
      "execution_count": null,
      "id": "b36ed328",
      "metadata": {
        "id": "b36ed328",
        "outputId": "3d0caaa0-0153-40d2-e002-0b4a6001bf90"
      },
      "outputs": [
        {
          "name": "stdout",
          "output_type": "stream",
          "text": [
            "The most important features for predicting used car prices are:\n",
            "Make: 0.2822\n",
            "Model: 0.2096\n",
            "Mileage: 0.1860\n",
            "Vin: 0.1852\n",
            "Year: 0.1053\n",
            "City: 0.0159\n",
            "State: 0.0158\n"
          ]
        }
      ],
      "source": [
        "print(\"The most important features for predicting used car prices are:\")\n",
        "for feature, importance in zip(top_feature_names, top_feature_importances):\n",
        "    print(f\"{feature}: {importance:.4f}\")"
      ]
    },
    {
      "cell_type": "markdown",
      "source": [
        "In conclusion, we can see that make(manufacturer of the car) column is the most important features for predicting used car prices. Certain car manufacturers have established a reputation for producing reliable and durable vehicles. Buyers often consider the historical reliability and performance of a manufacturer's models, which can influence their confidence in the long-term durability of a used car. In addition, state is the least important feature because many buyers are willing to transport a used car from one state to another, especially if the cost savings or the availability of a specific model justifies the effort. Transportation services make it feasible for buyers to consider cars located in different states."
      ],
      "metadata": {
        "id": "wD4vaZfrOSlE"
      },
      "id": "wD4vaZfrOSlE"
    }
  ],
  "metadata": {
    "kernelspec": {
      "display_name": "Python 3 (ipykernel)",
      "language": "python",
      "name": "python3"
    },
    "language_info": {
      "codemirror_mode": {
        "name": "ipython",
        "version": 3
      },
      "file_extension": ".py",
      "mimetype": "text/x-python",
      "name": "python",
      "nbconvert_exporter": "python",
      "pygments_lexer": "ipython3",
      "version": "3.9.7"
    },
    "colab": {
      "provenance": [],
      "include_colab_link": true
    }
  },
  "nbformat": 4,
  "nbformat_minor": 5
}